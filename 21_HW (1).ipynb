{
 "cells": [
  {
   "cell_type": "markdown",
   "metadata": {},
   "source": [
    "Atalov S.\n",
    "\n",
    "# Линейная регрессия"
   ]
  },
  {
   "cell_type": "markdown",
   "metadata": {},
   "source": [
    "На этот раз у нас имеются данные по домам.\n",
    "\n",
    "* transaction date - дата транзакции (не будем использовать)\n",
    "* house age - возраст дома\n",
    "* distance metro station - расстояние до станции метро\n",
    "* number of convenience stores - количество магазинов\n",
    "* latitude - широта (для местоположения)\n",
    "* longitude - долгота (для местоположения)\n",
    "* house price of unit area - стоимость квадратного метра жилья"
   ]
  },
  {
   "cell_type": "markdown",
   "metadata": {},
   "source": [
    "**У нас имеется модель линейной регрессии со следующей спецификацией:**\n",
    "\n",
    "$\\hat{y}=\\theta_0 + \\theta_1house age + \\theta_2distance metro station + \\theta_3number of convenience stores + \\theta_4latitude + \\theta_5longitude$"
   ]
  },
  {
   "cell_type": "markdown",
   "metadata": {},
   "source": [
    "где,\n",
    "\n",
    "$\\hat{y}$ - это прогнозируемое значение - `house price of unit area`;\n",
    "\n",
    "*ℎ𝑜𝑢𝑠𝑒𝑎𝑔𝑒* - это `house age`;\n",
    "\n",
    "*𝑑𝑖𝑠𝑡𝑎𝑛𝑐𝑒𝑚𝑒𝑡𝑟𝑜𝑠𝑡𝑎𝑡𝑖𝑜𝑛* - это `distance metro station`;\n",
    "\n",
    "*𝑛𝑢𝑚𝑏𝑒𝑟𝑜𝑓𝑐𝑜𝑛𝑣𝑒𝑛𝑖𝑒𝑛𝑐𝑒𝑠𝑡𝑜𝑟𝑒𝑠* - это `number of convenience stores`;\n",
    "\n",
    "*𝑙𝑎𝑡𝑖𝑡𝑢𝑑𝑒* - это `latitude`;\n",
    "\n",
    "*𝑙𝑜𝑛𝑔𝑖𝑡𝑢𝑑𝑒* - это `longitude`;\n",
    "\n",
    "$\\theta_i$ - это параметры модели."
   ]
  },
  {
   "cell_type": "markdown",
   "metadata": {},
   "source": [
    "**Попробуем оценить модель аналитические и с помощью Sklearn:**"
   ]
  },
  {
   "cell_type": "code",
   "execution_count": 1,
   "metadata": {},
   "outputs": [],
   "source": [
    "import numpy as np\n",
    "import pandas as pd\n",
    "import matplotlib.pyplot as plt"
   ]
  },
  {
   "cell_type": "markdown",
   "metadata": {},
   "source": [
    "#### Делим данные на X и y как показано в спецификации уравнения (какие данные нам необходимы)"
   ]
  },
  {
   "cell_type": "code",
   "execution_count": 2,
   "metadata": {},
   "outputs": [
    {
     "data": {
      "text/html": [
       "<div>\n",
       "<style scoped>\n",
       "    .dataframe tbody tr th:only-of-type {\n",
       "        vertical-align: middle;\n",
       "    }\n",
       "\n",
       "    .dataframe tbody tr th {\n",
       "        vertical-align: top;\n",
       "    }\n",
       "\n",
       "    .dataframe thead th {\n",
       "        text-align: right;\n",
       "    }\n",
       "</style>\n",
       "<table border=\"1\" class=\"dataframe\">\n",
       "  <thead>\n",
       "    <tr style=\"text-align: right;\">\n",
       "      <th></th>\n",
       "      <th>No</th>\n",
       "      <th>transaction date</th>\n",
       "      <th>house age</th>\n",
       "      <th>distance metro station</th>\n",
       "      <th>number of convenience stores</th>\n",
       "      <th>latitude</th>\n",
       "      <th>longitude</th>\n",
       "      <th>house price of unit area</th>\n",
       "    </tr>\n",
       "  </thead>\n",
       "  <tbody>\n",
       "    <tr>\n",
       "      <th>0</th>\n",
       "      <td>1</td>\n",
       "      <td>2012.917</td>\n",
       "      <td>32.0</td>\n",
       "      <td>84.87882</td>\n",
       "      <td>10</td>\n",
       "      <td>24.98298</td>\n",
       "      <td>121.54024</td>\n",
       "      <td>37.9</td>\n",
       "    </tr>\n",
       "    <tr>\n",
       "      <th>1</th>\n",
       "      <td>2</td>\n",
       "      <td>2012.917</td>\n",
       "      <td>19.5</td>\n",
       "      <td>306.59470</td>\n",
       "      <td>9</td>\n",
       "      <td>24.98034</td>\n",
       "      <td>121.53951</td>\n",
       "      <td>42.2</td>\n",
       "    </tr>\n",
       "    <tr>\n",
       "      <th>2</th>\n",
       "      <td>3</td>\n",
       "      <td>2013.583</td>\n",
       "      <td>13.3</td>\n",
       "      <td>561.98450</td>\n",
       "      <td>5</td>\n",
       "      <td>24.98746</td>\n",
       "      <td>121.54391</td>\n",
       "      <td>47.3</td>\n",
       "    </tr>\n",
       "    <tr>\n",
       "      <th>3</th>\n",
       "      <td>4</td>\n",
       "      <td>2013.500</td>\n",
       "      <td>13.3</td>\n",
       "      <td>561.98450</td>\n",
       "      <td>5</td>\n",
       "      <td>24.98746</td>\n",
       "      <td>121.54391</td>\n",
       "      <td>54.8</td>\n",
       "    </tr>\n",
       "    <tr>\n",
       "      <th>4</th>\n",
       "      <td>5</td>\n",
       "      <td>2012.833</td>\n",
       "      <td>5.0</td>\n",
       "      <td>390.56840</td>\n",
       "      <td>5</td>\n",
       "      <td>24.97937</td>\n",
       "      <td>121.54245</td>\n",
       "      <td>43.1</td>\n",
       "    </tr>\n",
       "  </tbody>\n",
       "</table>\n",
       "</div>"
      ],
      "text/plain": [
       "   No  transaction date  house age  distance metro station  \\\n",
       "0   1          2012.917       32.0                84.87882   \n",
       "1   2          2012.917       19.5               306.59470   \n",
       "2   3          2013.583       13.3               561.98450   \n",
       "3   4          2013.500       13.3               561.98450   \n",
       "4   5          2012.833        5.0               390.56840   \n",
       "\n",
       "   number of convenience stores  latitude  longitude  house price of unit area  \n",
       "0                            10  24.98298  121.54024                      37.9  \n",
       "1                             9  24.98034  121.53951                      42.2  \n",
       "2                             5  24.98746  121.54391                      47.3  \n",
       "3                             5  24.98746  121.54391                      54.8  \n",
       "4                             5  24.97937  121.54245                      43.1  "
      ]
     },
     "execution_count": 2,
     "metadata": {},
     "output_type": "execute_result"
    }
   ],
   "source": [
    "df = pd.read_csv('Real_estate .csv')\n",
    "df.head()"
   ]
  },
  {
   "cell_type": "code",
   "execution_count": 3,
   "metadata": {},
   "outputs": [],
   "source": [
    "X = df[['house age', 'distance metro station', 'number of convenience stores', 'latitude', 'longitude']]\n"
   ]
  },
  {
   "cell_type": "code",
   "execution_count": 4,
   "metadata": {},
   "outputs": [
    {
     "data": {
      "text/plain": [
       "0      37.9\n",
       "1      42.2\n",
       "2      47.3\n",
       "3      54.8\n",
       "4      43.1\n",
       "5      32.1\n",
       "6      40.3\n",
       "7      46.7\n",
       "8      18.8\n",
       "9      22.1\n",
       "10     41.4\n",
       "11     58.1\n",
       "12     39.3\n",
       "13     23.8\n",
       "14     34.3\n",
       "15     50.5\n",
       "16     70.1\n",
       "17     37.4\n",
       "18     42.3\n",
       "19     47.7\n",
       "20     29.3\n",
       "21     51.6\n",
       "22     24.6\n",
       "23     47.9\n",
       "24     38.8\n",
       "25     27.0\n",
       "26     56.2\n",
       "27     33.6\n",
       "28     47.0\n",
       "29     57.1\n",
       "       ... \n",
       "384    12.9\n",
       "385    46.6\n",
       "386    55.3\n",
       "387    25.6\n",
       "388    27.3\n",
       "389    67.7\n",
       "390    38.6\n",
       "391    31.3\n",
       "392    35.3\n",
       "393    40.3\n",
       "394    24.7\n",
       "395    42.5\n",
       "396    31.9\n",
       "397    32.2\n",
       "398    23.0\n",
       "399    37.3\n",
       "400    35.5\n",
       "401    27.7\n",
       "402    28.5\n",
       "403    39.7\n",
       "404    41.2\n",
       "405    37.2\n",
       "406    40.5\n",
       "407    22.3\n",
       "408    28.1\n",
       "409    15.4\n",
       "410    50.0\n",
       "411    40.6\n",
       "412    52.5\n",
       "413    63.9\n",
       "Name: house price of unit area, Length: 414, dtype: float64"
      ]
     },
     "execution_count": 4,
     "metadata": {},
     "output_type": "execute_result"
    }
   ],
   "source": [
    "y = df['house price of unit area']\n",
    "y"
   ]
  },
  {
   "cell_type": "markdown",
   "metadata": {},
   "source": [
    "#### Разделим данные на тренировочные и тестовые данные (размер тестовых данны определяем сами)"
   ]
  },
  {
   "cell_type": "markdown",
   "metadata": {},
   "source": [
    "-----\n",
    "\n",
    "## Решение уравнения в аналитическом виде\n",
    "\n",
    "## $\\hat{\\theta} = (X^{T}X)^{-1} X^{T}y$\n"
   ]
  },
  {
   "cell_type": "code",
   "execution_count": null,
   "metadata": {},
   "outputs": [],
   "source": [
    "# добавляем x0 равное 1, для того чтобы решалось уравнение\n",
    "X = np.c_[np.ones((\"тут количество строк в x_train\", 1)), X_train]\n",
    "y = Y_train"
   ]
  },
  {
   "cell_type": "markdown",
   "metadata": {},
   "source": [
    "### Какие наилучшие оценки коэффициентов $\\theta$ ???"
   ]
  },
  {
   "cell_type": "code",
   "execution_count": null,
   "metadata": {},
   "outputs": [],
   "source": [
    "# тут решение по формуле данной выше\n",
    "theta_best = "
   ]
  },
  {
   "cell_type": "markdown",
   "metadata": {},
   "source": [
    "### Каковы значения коэффициентов $\\theta_0$, $\\theta_1$, $\\theta_2$, $\\theta_3$, $\\theta_4$ и $\\theta_5$ ???"
   ]
  },
  {
   "cell_type": "code",
   "execution_count": null,
   "metadata": {},
   "outputs": [],
   "source": [
    "theta0 = theta_best[0]\n",
    "theta1 = theta_best[1]\n",
    "theta2 = ...\n",
    "theta3 = ...\n",
    "theta4 = ...\n",
    "theta5 = ..."
   ]
  },
  {
   "cell_type": "markdown",
   "metadata": {},
   "source": [
    "#### Если наше уравнение выглядит таким образом:\n",
    "\n",
    "$\\hat{y}=\\theta_0 + \\theta_1house age + \\theta_2distance metro station + \\theta_3number of convenience stores + \\theta_4latitude + \\theta_5longitude$\n",
    "\n",
    "#### Сделайте прогноз `house price of unit area` если у нас имеется дом с данными параметрами:\n",
    "\n",
    "`house age = 18`\n",
    "\n",
    "`distance metro station = 1000`\n",
    "\n",
    "`number of convenience stores = 4`\n",
    "\n",
    "`latitude = 25`\n",
    "\n",
    "`longitude = 121`\n"
   ]
  },
  {
   "cell_type": "markdown",
   "metadata": {},
   "source": [
    "#### Используя оцененные выше коэффициенты, допишите уравнение и предскажите стоимость жилья:"
   ]
  },
  {
   "cell_type": "code",
   "execution_count": null,
   "metadata": {},
   "outputs": [],
   "source": [
    "price = theta0 + theta1 * 18 + ...\n",
    "print(price)"
   ]
  },
  {
   "cell_type": "markdown",
   "metadata": {},
   "source": [
    "-----\n",
    "\n",
    "## Решение с помощью sklearn."
   ]
  },
  {
   "cell_type": "code",
   "execution_count": 5,
   "metadata": {},
   "outputs": [],
   "source": [
    "from sklearn.linear_model import LinearRegression"
   ]
  },
  {
   "cell_type": "code",
   "execution_count": 6,
   "metadata": {},
   "outputs": [],
   "source": [
    "myModel = LinearRegression()"
   ]
  },
  {
   "cell_type": "code",
   "execution_count": 7,
   "metadata": {},
   "outputs": [
    {
     "data": {
      "text/plain": [
       "LinearRegression(copy_X=True, fit_intercept=True, n_jobs=1, normalize=False)"
      ]
     },
     "execution_count": 7,
     "metadata": {},
     "output_type": "execute_result"
    }
   ],
   "source": [
    "myModel.fit(X, y)"
   ]
  },
  {
   "cell_type": "code",
   "execution_count": 8,
   "metadata": {},
   "outputs": [
    {
     "data": {
      "text/plain": [
       "-4945.595113744411"
      ]
     },
     "execution_count": 8,
     "metadata": {},
     "output_type": "execute_result"
    }
   ],
   "source": [
    "myModel.intercept_"
   ]
  },
  {
   "cell_type": "code",
   "execution_count": 9,
   "metadata": {},
   "outputs": [
    {
     "data": {
      "text/plain": [
       "array([-2.68916833e-01, -4.25908898e-03,  1.16302048e+00,  2.37767191e+02,\n",
       "       -7.80545273e+00])"
      ]
     },
     "execution_count": 9,
     "metadata": {},
     "output_type": "execute_result"
    }
   ],
   "source": [
    "myModel.coef_"
   ]
  },
  {
   "cell_type": "markdown",
   "metadata": {},
   "source": [
    "#### Проверьте, оцененные коэффициенты с помощью sklearn такие же как мы получали выше?"
   ]
  },
  {
   "cell_type": "markdown",
   "metadata": {},
   "source": [
    "#### Сделайте прогноз `house price of unit area` если у нас имеется дом со следующими характеристиками:\n",
    "\n",
    "`house age = 18`\n",
    "\n",
    "`distance metro station = 1000`\n",
    "\n",
    "`number of convenience stores = 4`\n",
    "\n",
    "`latitude = 25`\n",
    "\n",
    "`longitude = 121`"
   ]
  },
  {
   "cell_type": "code",
   "execution_count": 10,
   "metadata": {},
   "outputs": [
    {
     "data": {
      "text/plain": [
       "array([49.67737003])"
      ]
     },
     "execution_count": 10,
     "metadata": {},
     "output_type": "execute_result"
    }
   ],
   "source": [
    "# напишите в списке данные характеристики в порядке, указанном в спецификации модели\n",
    "myModel.predict([[18, 1000,4, 25, 121]])"
   ]
  },
  {
   "cell_type": "code",
   "execution_count": 11,
   "metadata": {},
   "outputs": [
    {
     "data": {
      "text/plain": [
       "0.5711617064827401"
      ]
     },
     "execution_count": 11,
     "metadata": {},
     "output_type": "execute_result"
    }
   ],
   "source": [
    "myModel.score(X, y)"
   ]
  },
  {
   "cell_type": "code",
   "execution_count": 33,
   "metadata": {},
   "outputs": [
    {
     "data": {
      "text/html": [
       "<div>\n",
       "<style scoped>\n",
       "    .dataframe tbody tr th:only-of-type {\n",
       "        vertical-align: middle;\n",
       "    }\n",
       "\n",
       "    .dataframe tbody tr th {\n",
       "        vertical-align: top;\n",
       "    }\n",
       "\n",
       "    .dataframe thead th {\n",
       "        text-align: right;\n",
       "    }\n",
       "</style>\n",
       "<table border=\"1\" class=\"dataframe\">\n",
       "  <thead>\n",
       "    <tr style=\"text-align: right;\">\n",
       "      <th></th>\n",
       "      <th>house age</th>\n",
       "      <th>distance metro station</th>\n",
       "      <th>number of convenience stores</th>\n",
       "      <th>latitude</th>\n",
       "      <th>longitude</th>\n",
       "    </tr>\n",
       "  </thead>\n",
       "  <tbody>\n",
       "    <tr>\n",
       "      <th>0</th>\n",
       "      <td>32.0</td>\n",
       "      <td>84.87882</td>\n",
       "      <td>10</td>\n",
       "      <td>24.98298</td>\n",
       "      <td>121.54024</td>\n",
       "    </tr>\n",
       "    <tr>\n",
       "      <th>1</th>\n",
       "      <td>19.5</td>\n",
       "      <td>306.59470</td>\n",
       "      <td>9</td>\n",
       "      <td>24.98034</td>\n",
       "      <td>121.53951</td>\n",
       "    </tr>\n",
       "    <tr>\n",
       "      <th>2</th>\n",
       "      <td>13.3</td>\n",
       "      <td>561.98450</td>\n",
       "      <td>5</td>\n",
       "      <td>24.98746</td>\n",
       "      <td>121.54391</td>\n",
       "    </tr>\n",
       "    <tr>\n",
       "      <th>3</th>\n",
       "      <td>13.3</td>\n",
       "      <td>561.98450</td>\n",
       "      <td>5</td>\n",
       "      <td>24.98746</td>\n",
       "      <td>121.54391</td>\n",
       "    </tr>\n",
       "    <tr>\n",
       "      <th>4</th>\n",
       "      <td>5.0</td>\n",
       "      <td>390.56840</td>\n",
       "      <td>5</td>\n",
       "      <td>24.97937</td>\n",
       "      <td>121.54245</td>\n",
       "    </tr>\n",
       "  </tbody>\n",
       "</table>\n",
       "</div>"
      ],
      "text/plain": [
       "   house age  distance metro station  number of convenience stores  latitude  \\\n",
       "0       32.0                84.87882                            10  24.98298   \n",
       "1       19.5               306.59470                             9  24.98034   \n",
       "2       13.3               561.98450                             5  24.98746   \n",
       "3       13.3               561.98450                             5  24.98746   \n",
       "4        5.0               390.56840                             5  24.97937   \n",
       "\n",
       "   longitude  \n",
       "0  121.54024  \n",
       "1  121.53951  \n",
       "2  121.54391  \n",
       "3  121.54391  \n",
       "4  121.54245  "
      ]
     },
     "execution_count": 33,
     "metadata": {},
     "output_type": "execute_result"
    }
   ],
   "source": [
    "X.head()"
   ]
  },
  {
   "cell_type": "code",
   "execution_count": 19,
   "metadata": {
    "scrolled": true
   },
   "outputs": [
    {
     "data": {
      "text/plain": [
       "414"
      ]
     },
     "execution_count": 19,
     "metadata": {},
     "output_type": "execute_result"
    }
   ],
   "source": [
    "len(y)"
   ]
  },
  {
   "cell_type": "code",
   "execution_count": 37,
   "metadata": {},
   "outputs": [
    {
     "data": {
      "image/png": "[encoded data removed]",
      "text/plain": [
       "<Figure size 432x288 with 1 Axes>"
      ]
     },
     "metadata": {},
     "output_type": "display_data"
    }
   ],
   "source": [
    "plt.plot(df['house age'], y)\n",
    "plt.show()"
   ]
  },
  {
   "cell_type": "markdown",
   "metadata": {},
   "source": [
    "### Схожи ли прогнозы???\n",
    "\n",
    "---"
   ]
  },
  {
   "cell_type": "markdown",
   "metadata": {},
   "source": [
    "### Посмотрим насколько хороша модель на train и test data."
   ]
  },
  {
   "cell_type": "code",
   "execution_count": null,
   "metadata": {},
   "outputs": [],
   "source": [
    "print(\"Training set score: {:.2f}\".format(model.score(X_train, Y_train)))\n",
    "print(\"Test set score: {:.2f}\".format(model.score(X_test, Y_test)))"
   ]
  },
  {
   "cell_type": "code",
   "execution_count": null,
   "metadata": {},
   "outputs": [],
   "source": []
  }
 ],
 "metadata": {
  "kernelspec": {
   "display_name": "Python 3",
   "language": "python",
   "name": "python3"
  },
  "language_info": {
   "codemirror_mode": {
    "name": "ipython",
    "version": 3
   },
   "file_extension": ".py",
   "mimetype": "text/x-python",
   "name": "python",
   "nbconvert_exporter": "python",
   "pygments_lexer": "ipython3",
   "version": "3.6.5"
  }
 },
 "nbformat": 4,
 "nbformat_minor": 4
}
