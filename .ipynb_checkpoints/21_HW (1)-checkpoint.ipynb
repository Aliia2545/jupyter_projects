{
 "cells": [
  {
   "cell_type": "markdown",
   "metadata": {},
   "source": [
    "Atalov S.\n",
    "\n",
    "# Линейная регрессия"
   ]
  },
  {
   "cell_type": "markdown",
   "metadata": {},
   "source": [
    "На этот раз у нас имеются данные по домам.\n",
    "\n",
    "* transaction date - дата транзакции (не будем использовать)\n",
    "* house age - возраст дома\n",
    "* distance metro station - расстояние до станции метро\n",
    "* number of convenience stores - количество магазинов\n",
    "* latitude - широта (для местоположения)\n",
    "* longitude - долгота (для местоположения)\n",
    "* house price of unit area - стоимость квадратного метра жилья"
   ]
  },
  {
   "cell_type": "markdown",
   "metadata": {},
   "source": [
    "**У нас имеется модель линейной регрессии со следующей спецификацией:**\n",
    "\n",
    "$\\hat{y}=\\theta_0 + \\theta_1house age + \\theta_2distance metro station + \\theta_3number of convenience stores + \\theta_4latitude + \\theta_5longitude$"
   ]
  },
  {
   "cell_type": "markdown",
   "metadata": {},
   "source": [
    "где,\n",
    "\n",
    "$\\hat{y}$ - это прогнозируемое значение - `house price of unit area`;\n",
    "\n",
    "*ℎ𝑜𝑢𝑠𝑒𝑎𝑔𝑒* - это `house age`;\n",
    "\n",
    "*𝑑𝑖𝑠𝑡𝑎𝑛𝑐𝑒𝑚𝑒𝑡𝑟𝑜𝑠𝑡𝑎𝑡𝑖𝑜𝑛* - это `distance metro station`;\n",
    "\n",
    "*𝑛𝑢𝑚𝑏𝑒𝑟𝑜𝑓𝑐𝑜𝑛𝑣𝑒𝑛𝑖𝑒𝑛𝑐𝑒𝑠𝑡𝑜𝑟𝑒𝑠* - это `number of convenience stores`;\n",
    "\n",
    "*𝑙𝑎𝑡𝑖𝑡𝑢𝑑𝑒* - это `latitude`;\n",
    "\n",
    "*𝑙𝑜𝑛𝑔𝑖𝑡𝑢𝑑𝑒* - это `longitude`;\n",
    "\n",
    "$\\theta_i$ - это параметры модели."
   ]
  },
  {
   "cell_type": "markdown",
   "metadata": {},
   "source": [
    "**Попробуем оценить модель аналитические и с помощью Sklearn:**"
   ]
  },
  {
   "cell_type": "code",
   "execution_count": null,
   "metadata": {},
   "outputs": [],
   "source": [
    "import numpy  "
   ]
  },
  {
   "cell_type": "markdown",
   "metadata": {},
   "source": [
    "#### Делим данные на X и y как показано в спецификации уравнения (какие данные нам необходимы)"
   ]
  },
  {
   "cell_type": "code",
   "execution_count": null,
   "metadata": {},
   "outputs": [],
   "source": [
    "X = "
   ]
  },
  {
   "cell_type": "code",
   "execution_count": null,
   "metadata": {},
   "outputs": [],
   "source": [
    "y = "
   ]
  },
  {
   "cell_type": "markdown",
   "metadata": {},
   "source": [
    "#### Разделим данные на тренировочные и тестовые данные (размер тестовых данны определяем сами)"
   ]
  },
  {
   "cell_type": "code",
   "execution_count": null,
   "metadata": {},
   "outputs": [],
   "source": []
  },
  {
   "cell_type": "code",
   "execution_count": null,
   "metadata": {},
   "outputs": [],
   "source": []
  },
  {
   "cell_type": "markdown",
   "metadata": {},
   "source": [
    "-----\n",
    "\n",
    "## Решение уравнения в аналитическом виде\n",
    "\n",
    "## $\\hat{\\theta} = (X^{T}X)^{-1} X^{T}y$\n"
   ]
  },
  {
   "cell_type": "code",
   "execution_count": null,
   "metadata": {},
   "outputs": [],
   "source": [
    "# добавляем x0 равное 1, для того чтобы решалось уравнение\n",
    "X = np.c_[np.ones((\"тут количество строк в x_train\", 1)), X_train]\n",
    "y = Y_train"
   ]
  },
  {
   "cell_type": "markdown",
   "metadata": {},
   "source": [
    "### Какие наилучшие оценки коэффициентов $\\theta$ ???"
   ]
  },
  {
   "cell_type": "code",
   "execution_count": null,
   "metadata": {},
   "outputs": [],
   "source": [
    "# тут решение по формуле данной выше\n",
    "theta_best = "
   ]
  },
  {
   "cell_type": "markdown",
   "metadata": {},
   "source": [
    "### Каковы значения коэффициентов $\\theta_0$, $\\theta_1$, $\\theta_2$, $\\theta_3$, $\\theta_4$ и $\\theta_5$ ???"
   ]
  },
  {
   "cell_type": "code",
   "execution_count": null,
   "metadata": {},
   "outputs": [],
   "source": [
    "theta0 = theta_best[0]\n",
    "theta1 = theta_best[1]\n",
    "theta2 = ...\n",
    "theta3 = ...\n",
    "theta4 = ...\n",
    "theta5 = ..."
   ]
  },
  {
   "cell_type": "markdown",
   "metadata": {},
   "source": [
    "#### Если наше уравнение выглядит таким образом:\n",
    "\n",
    "$\\hat{y}=\\theta_0 + \\theta_1house age + \\theta_2distance metro station + \\theta_3number of convenience stores + \\theta_4latitude + \\theta_5longitude$\n",
    "\n",
    "#### Сделайте прогноз `house price of unit area` если у нас имеется дом с данными параметрами:\n",
    "\n",
    "`house age = 18`\n",
    "\n",
    "`distance metro station = 1000`\n",
    "\n",
    "`number of convenience stores = 4`\n",
    "\n",
    "`latitude = 25`\n",
    "\n",
    "`longitude = 121`\n"
   ]
  },
  {
   "cell_type": "markdown",
   "metadata": {},
   "source": [
    "#### Используя оцененные выше коэффициенты, допишите уравнение и предскажите стоимость жилья:"
   ]
  },
  {
   "cell_type": "code",
   "execution_count": null,
   "metadata": {},
   "outputs": [],
   "source": [
    "price = theta0 + theta1 * 18 + ...\n",
    "print(price)"
   ]
  },
  {
   "cell_type": "markdown",
   "metadata": {},
   "source": [
    "-----\n",
    "\n",
    "## Решение с помощью sklearn."
   ]
  },
  {
   "cell_type": "code",
   "execution_count": null,
   "metadata": {},
   "outputs": [],
   "source": []
  },
  {
   "cell_type": "code",
   "execution_count": null,
   "metadata": {},
   "outputs": [],
   "source": []
  },
  {
   "cell_type": "markdown",
   "metadata": {},
   "source": [
    "#### Проверьте, оцененные коэффициенты с помощью sklearn такие же как мы получали выше?"
   ]
  },
  {
   "cell_type": "code",
   "execution_count": null,
   "metadata": {},
   "outputs": [],
   "source": []
  },
  {
   "cell_type": "markdown",
   "metadata": {},
   "source": [
    "#### Сделайте прогноз `house price of unit area` если у нас имеется дом со следующими характеристиками:\n",
    "\n",
    "`house age = 18`\n",
    "\n",
    "`distance metro station = 1000`\n",
    "\n",
    "`number of convenience stores = 4`\n",
    "\n",
    "`latitude = 25`\n",
    "\n",
    "`longitude = 121`"
   ]
  },
  {
   "cell_type": "code",
   "execution_count": null,
   "metadata": {},
   "outputs": [],
   "source": [
    "# напишите в списке данные характеристики в порядке, указанном в спецификации модели\n",
    "model.predict([[]])"
   ]
  },
  {
   "cell_type": "markdown",
   "metadata": {},
   "source": [
    "### Схожи ли прогнозы???\n",
    "\n",
    "---"
   ]
  },
  {
   "cell_type": "markdown",
   "metadata": {},
   "source": [
    "### Посмотрим насколько хороша модель на train и test data."
   ]
  },
  {
   "cell_type": "code",
   "execution_count": null,
   "metadata": {},
   "outputs": [],
   "source": [
    "print(\"Training set score: {:.2f}\".format(model.score(X_train, Y_train)))\n",
    "print(\"Test set score: {:.2f}\".format(model.score(X_test, Y_test)))"
   ]
  },
  {
   "cell_type": "code",
   "execution_count": null,
   "metadata": {},
   "outputs": [],
   "source": []
  }
 ],
 "metadata": {
  "kernelspec": {
   "display_name": "Python 3",
   "language": "python",
   "name": "python3"
  },
  "language_info": {
   "codemirror_mode": {
    "name": "ipython",
    "version": 3
   },
   "file_extension": ".py",
   "mimetype": "text/x-python",
   "name": "python",
   "nbconvert_exporter": "python",
   "pygments_lexer": "ipython3",
   "version": "3.6.5"
  }
 },
 "nbformat": 4,
 "nbformat_minor": 4
}
